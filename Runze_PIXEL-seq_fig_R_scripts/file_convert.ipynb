{
 "cells": [
  {
   "cell_type": "code",
   "execution_count": 1,
   "id": "46ab197e",
   "metadata": {},
   "outputs": [],
   "source": [
    "import os\n",
    "import os.path\n",
    "import sys\n",
    "from tqdm import tqdm"
   ]
  },
  {
   "cell_type": "markdown",
   "id": "c92c1ed6",
   "metadata": {},
   "source": [
    "# covert Seg_cluster_prg2_pos.txt to Seg_cluster_only_neuron_pos.txt"
   ]
  },
  {
   "cell_type": "code",
   "execution_count": 3,
   "id": "692ff3d5",
   "metadata": {
    "scrolled": true
   },
   "outputs": [
    {
     "name": "stderr",
     "output_type": "stream",
     "text": [
      "100%|██████████| 7103974/7103974 [00:07<00:00, 939287.35it/s] \n"
     ]
    }
   ],
   "source": [
    "All_pose_file = open(\"/media/gulab/GUDR2/PB10_new/Seg_cluster_prg2_pos.txt\")\n",
    "All_pose_lines = All_pose_file.readlines()\n",
    "coord_lst = []\n",
    "dict_barcode2cellid = {}\n",
    "dict_barcode2origin = {}\n",
    "Bin_lst = []\n",
    "for i in tqdm(range(len(All_pose_lines))):\n",
    "    tmp_lst = All_pose_lines[i].strip('\\n').split('\\t')\n",
    "    tmp_barcode = tmp_lst[5]\n",
    "    coord_lst.append((tmp_lst[0], tmp_lst[1]))\n",
    "    tmp_cellid = tmp_lst[2]\n",
    "    tmp_origin = tmp_lst[3]\n",
    "    Bin_lst.append(tmp_barcode)\n",
    "    dict_barcode2cellid[tmp_barcode] = tmp_cellid\n",
    "    dict_barcode2origin[tmp_barcode] = tmp_origin\n",
    "All_pose_file.close()"
   ]
  },
  {
   "cell_type": "code",
   "execution_count": 6,
   "id": "0131db82",
   "metadata": {},
   "outputs": [
    {
     "name": "stderr",
     "output_type": "stream",
     "text": [
      "100%|██████████| 31505/31505 [00:00<00:00, 927953.79it/s]\n"
     ]
    }
   ],
   "source": [
    "Only_neuron_file = open(\"/media/gulab/GUDR2/PB10_new/only_neuron.csv\")\n",
    "Only_neuron_lines = Only_neuron_file.readlines()\n",
    "dict_neuron2cluster = {}\n",
    "for i in tqdm(range(1, len(Only_neuron_lines))):\n",
    "    tmp_lst = Only_neuron_lines[i].strip('\\n').replace('\\\"','').split(',')\n",
    "    tmp_neuron = tmp_lst[0]\n",
    "    tmp_cluster = tmp_lst[1]\n",
    "    dict_neuron2cluster[tmp_neuron] = tmp_cluster\n",
    "Only_neuron_file.close()"
   ]
  },
  {
   "cell_type": "code",
   "execution_count": 7,
   "id": "f1aab6dc",
   "metadata": {},
   "outputs": [],
   "source": [
    "New_pos_file = open(\"/media/gulab/GUDR2/PB10_new/Seg_cluster_only_neuron_pos.txt\", \"w\")\n",
    "for i in range(len(Bin_lst)):\n",
    "    if Bin_lst[i] in dict_neuron2cluster.keys():\n",
    "        tmp_coord_x = coord_lst[i][0]\n",
    "        tmp_coord_y = coord_lst[i][1]\n",
    "        tmp_cellid = dict_barcode2cellid[Bin_lst[i]]\n",
    "        tmp_cluster = dict_neuron2cluster[Bin_lst[i]]\n",
    "        tmp_origin = dict_barcode2origin[Bin_lst[i]]\n",
    "        New_pos_file.write(tmp_coord_x+\"\\t\"+tmp_coord_y+\"\\t\"+tmp_cellid+\"\\t\"+tmp_origin+\"\\t\"+tmp_cluster+\"\\t\"+Bin_lst[i]+\"\\n\")\n",
    "New_pos_file.close()"
   ]
  },
  {
   "cell_type": "markdown",
   "id": "a08a9ac9",
   "metadata": {},
   "source": [
    "# covert only_Neuron_ABC.csv to Seg_cluster_only_neuron_pos_ABC.txt"
   ]
  },
  {
   "cell_type": "code",
   "execution_count": 50,
   "id": "ec21ef1c",
   "metadata": {},
   "outputs": [
    {
     "name": "stderr",
     "output_type": "stream",
     "text": [
      "100%|██████████| 3322998/3322998 [00:03<00:00, 1052821.67it/s]\n"
     ]
    }
   ],
   "source": [
    "All_pose_file = open(\"/media/gulab/Hector/PB10_new/PB10all_cluster_pos.txt\")\n",
    "All_pose_lines = All_pose_file.readlines()\n",
    "coord_lst = []\n",
    "dict_barcode2cellid = {}\n",
    "dict_barcode2origin = {}\n",
    "Bin_lst = []\n",
    "for i in tqdm(range(len(All_pose_lines))):\n",
    "    tmp_lst = All_pose_lines[i].strip('\\n').split('\\t')\n",
    "    tmp_barcode = tmp_lst[4]\n",
    "    coord_lst.append((tmp_lst[0], tmp_lst[1]))\n",
    "    tmp_cellid = tmp_lst[2]\n",
    "    tmp_origin = tmp_lst[3]\n",
    "    Bin_lst.append(tmp_barcode)\n",
    "    dict_barcode2cellid[tmp_barcode] = tmp_cellid\n",
    "    dict_barcode2origin[tmp_barcode] = tmp_origin\n",
    "All_pose_file.close()"
   ]
  },
  {
   "cell_type": "code",
   "execution_count": 51,
   "id": "d2df3b81",
   "metadata": {},
   "outputs": [
    {
     "name": "stderr",
     "output_type": "stream",
     "text": [
      "100%|██████████| 11619/11619 [00:00<00:00, 1195858.32it/s]\n"
     ]
    }
   ],
   "source": [
    "Only_neuron_file = open(\"/media/gulab/Hector/PB10_new/only_Neuron_ABC.csv\")\n",
    "Only_neuron_lines = Only_neuron_file.readlines()\n",
    "dict_neuron2cluster = {}\n",
    "for i in tqdm(range(1, len(Only_neuron_lines))):\n",
    "    tmp_lst = Only_neuron_lines[i].strip('\\n').replace('\\\"','').split(',')\n",
    "    tmp_neuron = tmp_lst[0]\n",
    "    tmp_cluster = tmp_lst[1]\n",
    "    dict_neuron2cluster[tmp_neuron] = tmp_cluster\n",
    "Only_neuron_file.close()"
   ]
  },
  {
   "cell_type": "code",
   "execution_count": 52,
   "id": "e867671a",
   "metadata": {},
   "outputs": [],
   "source": [
    "New_pos_file = open(\"/media/gulab/Hector/PB10_new/Seg_cluster_only_neuron_pos_ABC.txt\", \"w\")\n",
    "for i in range(len(Bin_lst)):\n",
    "    if Bin_lst[i] in dict_neuron2cluster.keys():\n",
    "        tmp_coord_x = coord_lst[i][0]\n",
    "        tmp_coord_y = coord_lst[i][1]\n",
    "        tmp_cellid = dict_barcode2cellid[Bin_lst[i]]\n",
    "        tmp_cluster = dict_neuron2cluster[Bin_lst[i]]\n",
    "        tmp_origin = dict_barcode2origin[Bin_lst[i]]\n",
    "        New_pos_file.write(tmp_coord_x+\"\\t\"+tmp_coord_y+\"\\t\"+tmp_cellid+\"\\t\"+tmp_origin+\"\\t\"+tmp_cluster+\"\\t\"+Bin_lst[i]+\"\\n\")\n",
    "New_pos_file.close()"
   ]
  },
  {
   "cell_type": "markdown",
   "id": "697acd93",
   "metadata": {},
   "source": [
    "# Generate PB10_Calca_in_region.final and PB10_Tac1_in_region.final"
   ]
  },
  {
   "cell_type": "code",
   "execution_count": 18,
   "id": "a063d7bd",
   "metadata": {},
   "outputs": [],
   "source": [
    "only_Neuron_ABC_pos_File = open(\"/media/gulab/Hector/PB10_new/Seg_cluster_only_neuron_pos_ABC.txt\")\n",
    "only_Neuron_ABC_pos_lines = only_Neuron_ABC_pos_File.readlines()\n",
    "coord_x = []\n",
    "coord_y = []\n",
    "dict_coord_in = {}\n",
    "for i in range(len(only_Neuron_ABC_pos_lines)):\n",
    "    tmp_lst = only_Neuron_ABC_pos_lines[i].strip('\\n').split('\\t')\n",
    "    tmp_x = float(tmp_lst[0])\n",
    "    tmp_y = float(tmp_lst[1])\n",
    "    if tmp_lst[4] == '5' or tmp_lst[4] == '9' or tmp_lst[4] == '11':\n",
    "        if (tmp_x >= 21800 and tmp_x <= 23000 and tmp_y >= 6200 and tmp_y <= 7500) or \\\n",
    "        (tmp_x >= 36300 and tmp_x <= 37500 and tmp_y >= 6900 and tmp_y <= 8300) or \\\n",
    "        (tmp_x >= 49200 and tmp_x <= 50500 and tmp_y >= 6500 and tmp_y <= 7800):\n",
    "            coord_x.append(tmp_x)\n",
    "            coord_y.append(tmp_y)\n",
    "            dict_coord_in[(tmp_x, tmp_y)] = 1"
   ]
  },
  {
   "cell_type": "code",
   "execution_count": 19,
   "id": "79809e4e",
   "metadata": {},
   "outputs": [],
   "source": [
    "Calca_File = open(\"/media/gulab/Hector/PB10_new/PB10_Calca.final\")\n",
    "Calca_lines = Calca_File.readlines()\n",
    "out_File = open(\"/media/gulab/Hector/PB10_new/PB10_Calca_in_region.final\", \"w\")\n",
    "for i in range(len(Calca_lines)):\n",
    "    tmp_lst = Calca_lines[i].strip('\\n').split('\\t')\n",
    "    tmp_x = float(tmp_lst[2])\n",
    "    tmp_y = float(tmp_lst[3])\n",
    "    if (tmp_x, tmp_y) in dict_coord_in.keys():\n",
    "        out_File.write(Calca_lines[i])\n",
    "out_File.close()"
   ]
  },
  {
   "cell_type": "code",
   "execution_count": 20,
   "id": "1bf2171d",
   "metadata": {},
   "outputs": [],
   "source": [
    "Tac1_File = open(\"/media/gulab/Hector/PB10_new/PB10_Tac1.final\")\n",
    "Tac1_lines = Tac1_File.readlines()\n",
    "out_File = open(\"/media/gulab/Hector/PB10_new/PB10_Tac1_in_region.final\", \"w\")\n",
    "for i in range(len(Tac1_lines)):\n",
    "    tmp_lst = Tac1_lines[i].strip('\\n').split('\\t')\n",
    "    tmp_x = float(tmp_lst[2])\n",
    "    tmp_y = float(tmp_lst[3])\n",
    "    if (tmp_x, tmp_y) in dict_coord_in.keys():\n",
    "        out_File.write(Tac1_lines[i])\n",
    "out_File.close()"
   ]
  },
  {
   "cell_type": "markdown",
   "id": "ef6adb73",
   "metadata": {},
   "source": [
    "# generate Seg_cluster_prg2_pos_updated.txt"
   ]
  },
  {
   "cell_type": "code",
   "execution_count": 34,
   "id": "328e05c0",
   "metadata": {},
   "outputs": [
    {
     "name": "stderr",
     "output_type": "stream",
     "text": [
      "100%|██████████| 63808/63808 [00:00<00:00, 1275188.32it/s]\n"
     ]
    }
   ],
   "source": [
    "PBN_4_cluster_File = open(\"/media/gulab/Hector/PB10_new/PBN_4_cluster.csv\")\n",
    "PBN_4_cluster_line = PBN_4_cluster_File.readlines()\n",
    "dict_barcode2cluster = {}\n",
    "for i in tqdm(range(1, len(PBN_4_cluster_line))):\n",
    "    tmp_lst = PBN_4_cluster_line[i].strip('\\n').replace('\\\"', '').split(',')\n",
    "    dict_barcode2cluster[tmp_lst[0]] = tmp_lst[1]\n",
    "PBN_4_cluster_File.close()"
   ]
  },
  {
   "cell_type": "code",
   "execution_count": 38,
   "id": "15e38706",
   "metadata": {},
   "outputs": [
    {
     "name": "stderr",
     "output_type": "stream",
     "text": [
      "100%|██████████| 7103974/7103974 [00:07<00:00, 988272.15it/s] \n"
     ]
    }
   ],
   "source": [
    "All_barcode_File = open(\"/media/gulab/Hector/PB10_new/Seg_cluster_prg2_pos.txt\")\n",
    "New_barcode_File = open(\"/media/gulab/Hector/PB10_new/Seg_cluster_prg2_pos_updated.txt\", \"w\")\n",
    "All_barcode_lines = All_barcode_File.readlines()\n",
    "for i in tqdm(range(len(All_barcode_lines))):\n",
    "    tmp_lst = All_barcode_lines[i].strip('\\n').split('\\t')\n",
    "    tmp_seq = tmp_lst[5]\n",
    "    if tmp_seq in dict_barcode2cluster.keys():\n",
    "        new_cluster = dict_barcode2cluster[tmp_seq]\n",
    "        New_barcode_File.write(tmp_lst[0]+\"\\t\"+tmp_lst[1]+\"\\t\"+tmp_lst[2]+\"\\t\"+tmp_lst[3]+\"\\t\"+new_cluster+\"\\t\"+tmp_seq+\"\\n\")\n",
    "New_barcode_File.close()"
   ]
  }
 ],
 "metadata": {
  "kernelspec": {
   "display_name": "Python 3",
   "language": "python",
   "name": "python3"
  },
  "language_info": {
   "codemirror_mode": {
    "name": "ipython",
    "version": 3
   },
   "file_extension": ".py",
   "mimetype": "text/x-python",
   "name": "python",
   "nbconvert_exporter": "python",
   "pygments_lexer": "ipython3",
   "version": "3.8.10"
  }
 },
 "nbformat": 4,
 "nbformat_minor": 5
}
