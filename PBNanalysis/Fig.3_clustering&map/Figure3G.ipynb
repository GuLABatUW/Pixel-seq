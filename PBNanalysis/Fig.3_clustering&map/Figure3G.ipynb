{
 "cells": [
  {
   "cell_type": "code",
   "execution_count": 1,
   "id": "46ab197e",
   "metadata": {},
   "outputs": [],
   "source": [
    "import os\n",
    "import os.path\n",
    "import sys\n",
    "from tqdm import tqdm\n",
    "\n",
    "import scanpy as sc\n",
    "import numpy as np\n",
    "import matplotlib.pyplot as plt\n",
    "import pandas as pd\n",
    "import seaborn as sns\n",
    "from matplotlib.lines import Line2D\n",
    "import numba\n",
    "#import umap\n",
    "\n",
    "import scvi\n",
    "from scvi.model import CondSCVI\n",
    "from scvi.model import DestVI\n",
    "import torch"
   ]
  },
  {
   "cell_type": "markdown",
   "id": "f6ae41ed",
   "metadata": {},
   "source": [
    "## Assign cluster info to each barcode"
   ]
  },
  {
   "cell_type": "code",
   "execution_count": 89,
   "id": "328e05c0",
   "metadata": {},
   "outputs": [
    {
     "name": "stderr",
     "output_type": "stream",
     "text": [
      "100%|██████████| 63808/63808 [00:00<00:00, 1194073.80it/s]\n"
     ]
    }
   ],
   "source": [
    "# PBN_4_cluster.csv from Figure3C.R\n",
    "PBN_4_cluster_File = open(\"/media/gulab/GUDR2/PB10_new/PBN_4_cluster.csv\") \n",
    "PBN_4_cluster_line = PBN_4_cluster_File.readlines()\n",
    "dict_barcode2cluster = {}\n",
    "for i in tqdm(range(1, len(PBN_4_cluster_line))):\n",
    "    tmp_lst = PBN_4_cluster_line[i].strip('\\n').replace('\\\"', '').split(',')\n",
    "    dict_barcode2cluster[tmp_lst[0][8:]] = int(tmp_lst[1])\n",
    "PBN_4_cluster_File.close()"
   ]
  },
  {
   "cell_type": "code",
   "execution_count": 90,
   "id": "d64f019f",
   "metadata": {},
   "outputs": [],
   "source": [
    "for key, value in dict_barcode2cluster.items():\n",
    "    if value == 2:\n",
    "        dict_barcode2cluster[key] = 18\n",
    "    if value == 3:\n",
    "        dict_barcode2cluster[key] = 19\n",
    "    if value == 4:\n",
    "        dict_barcode2cluster[key] = 20\n",
    "    if value == 13:\n",
    "        dict_barcode2cluster[key] = 21\n",
    "    if value == 18:\n",
    "        dict_barcode2cluster[key] = 22\n",
    "    if value == 19:\n",
    "        dict_barcode2cluster[key] = 23\n",
    "    if value == 6:\n",
    "        dict_barcode2cluster[key] = 24\n",
    "    if value == 9:\n",
    "        dict_barcode2cluster[key] = 25\n",
    "    if value == 12:\n",
    "        dict_barcode2cluster[key] = 26\n",
    "    if value == 11:\n",
    "        dict_barcode2cluster[key] = 27\n",
    "    if value == 17:\n",
    "        dict_barcode2cluster[key] = 28\n",
    "    if value == 20:\n",
    "        dict_barcode2cluster[key] = 29"
   ]
  },
  {
   "cell_type": "code",
   "execution_count": 95,
   "id": "222e112a",
   "metadata": {},
   "outputs": [],
   "source": [
    "# neuron_4_cluster.csv from Figure3F.R\n",
    "with open(\"/media/gulab/GUDR2/PB10_new/neuron_4_cluster.csv\") as NeuroFile:\n",
    "    for line in NeuroFile.readlines()[1:]:\n",
    "        tmp_lst = line.strip('\\n').replace('\\\"', '').split(';')\n",
    "        dict_barcode2cluster[tmp_lst[0][8:]] = int(tmp_lst[1])"
   ]
  },
  {
   "cell_type": "markdown",
   "id": "352f1b00",
   "metadata": {},
   "source": [
    "## caculate PCCF on 30d1"
   ]
  },
  {
   "cell_type": "code",
   "execution_count": 96,
   "id": "bf4a7be1",
   "metadata": {},
   "outputs": [
    {
     "name": "stderr",
     "output_type": "stream",
     "text": [
      "100%|██████████| 1840194/1840194 [00:02<00:00, 671063.64it/s]\n",
      "100%|██████████| 2735243/2735243 [00:05<00:00, 525439.18it/s]\n",
      "100%|██████████| 17099/17099 [00:00<00:00, 572583.74it/s]\n",
      "  1%|          | 1/100 [00:00<00:14,  6.60it/s]"
     ]
    },
    {
     "name": "stdout",
     "output_type": "stream",
     "text": [
      "352\n"
     ]
    },
    {
     "name": "stderr",
     "output_type": "stream",
     "text": [
      "100%|██████████| 100/100 [00:12<00:00,  7.87it/s]"
     ]
    },
    {
     "name": "stdout",
     "output_type": "stream",
     "text": [
      "87\n"
     ]
    },
    {
     "name": "stderr",
     "output_type": "stream",
     "text": [
      "\n"
     ]
    }
   ],
   "source": [
    "dict_coord2id = {}\n",
    "dict_id2count = {}\n",
    "# idAssignBarcode_30d1_S2.txt from Xiaonan\n",
    "# PBS2_30d1_edge.txt from Xiaonan\n",
    "# spt_4U_p2Mask30d1_S2Coord.txt from Xiaonan\n",
    "idAssignFile_30d1 = open(\"/media/gulab/GUDR2/PB10_new/PBS2_edgeSegID/idAssignBarcode_30d1_S2.txt\")\n",
    "idAssignLines_30d1 = idAssignFile_30d1.readlines()\n",
    "for i in tqdm(range(len(idAssignLines_30d1))):\n",
    "    tmp_lst = idAssignLines_30d1[i].strip('\\n').split('\\t')\n",
    "    tmp_coord = (float(tmp_lst[0]), float(tmp_lst[1]))\n",
    "    tmp_id = int(tmp_lst[2])\n",
    "    dict_coord2id[tmp_coord] = tmp_id\n",
    "    if tmp_id not in dict_id2count.keys():\n",
    "        dict_id2count[tmp_id] = 1\n",
    "    else:\n",
    "        dict_id2count[tmp_id] = dict_id2count[tmp_id] + 1\n",
    "dict_id2count[0] = 0\n",
    "\n",
    "EdgeFile = open(\"/media/gulab/GUDR2/PB10_new/PBS2_edgeSegID/PBS2_30d1_edge.txt\")\n",
    "EdgeLines = EdgeFile.readlines()\n",
    "dict_cellidpair2connect = {}\n",
    "for i in tqdm(range(1, len(EdgeLines))):\n",
    "    tmp_lst = EdgeLines[i].strip('\\n').split('\\t')\n",
    "    tmp_coord_1 = (float(tmp_lst[2]), float(tmp_lst[3]))\n",
    "    tmp_coord_2 = (float(tmp_lst[4]), float(tmp_lst[5]))\n",
    "    id1 = dict_coord2id[tmp_coord_1]\n",
    "    id2 = dict_coord2id[tmp_coord_2]\n",
    "    if id1 < id2:\n",
    "        dict_cellidpair2connect[(id1, id2)] = 1\n",
    "    elif id2 > id1:\n",
    "        dict_cellidpair2connect[(id2, id1)] = 1\n",
    "        \n",
    "CoordFile = open(\"/media/gulab/GUDR2/PB10_new/PBS2_edgeSegID/spt_4U_p2Mask30d1_S2Coord.txt\")\n",
    "CoordLines = CoordFile.readlines()\n",
    "dict_id2barcode = {}\n",
    "dict_barcodeCount = {}\n",
    "cluster_lst = []\n",
    "counts_lst = []\n",
    "count = 0\n",
    "for i in tqdm(range(1, len(CoordLines))):\n",
    "    tmp_lst = CoordLines[i].strip('\\n').split(',')\n",
    "    dict_id2barcode[int(tmp_lst[0])] = tmp_lst[3]\n",
    "    if tmp_lst[3] in dict_barcode2cluster.keys():\n",
    "        tmp_cluster = dict_barcode2cluster[tmp_lst[3]]\n",
    "        cluster_lst.append(tmp_cluster)\n",
    "        counts_lst.append(dict_id2count[int(tmp_lst[0])-1])\n",
    "        if tmp_cluster not in dict_barcodeCount.keys():\n",
    "            dict_barcodeCount[tmp_cluster] = 1\n",
    "        else:\n",
    "            dict_barcodeCount[tmp_cluster] = dict_barcodeCount[tmp_cluster] + 1\n",
    "    else:\n",
    "        count = count + 1\n",
    "print(count)\n",
    "\n",
    "from sklearn.neighbors import NearestNeighbors\n",
    "import random\n",
    "import numpy as np\n",
    "\n",
    "n_iter = 100\n",
    "n_img_size = 8826\n",
    "dict_est_1 = {}\n",
    "for n in tqdm(range(n_iter)):\n",
    "    coord_lst = []\n",
    "    for i in range(len(counts_lst)):\n",
    "        x_coord = random.randint(0, n_img_size-1)\n",
    "        y_coord = random.randint(0, n_img_size-1)\n",
    "        coord_lst.append((x_coord, y_coord))\n",
    "    nbrs = NearestNeighbors(n_neighbors=2, algorithm='ball_tree').fit(coord_lst)\n",
    "    distances, indices = nbrs.kneighbors(coord_lst)\n",
    "    for i in range(len(distances)):\n",
    "        tmp_index = indices[i][1]\n",
    "        r_1 = np.square(counts_lst[i])\n",
    "        r_2 = np.square(counts_lst[tmp_index])\n",
    "        if distances[i][1] <= r_1 + r_2:\n",
    "            tmp_pair = \"\"\n",
    "            if cluster_lst[i] <= cluster_lst[tmp_index]:\n",
    "                tmp_pair = (cluster_lst[i], cluster_lst[tmp_index])\n",
    "            else:\n",
    "                tmp_pair = (cluster_lst[tmp_index], cluster_lst[i])\n",
    "            if tmp_pair not in dict_est_1.keys():\n",
    "                dict_est_1[tmp_pair] = 1\n",
    "            else:\n",
    "                dict_est_1[tmp_pair] = dict_est_1[tmp_pair] + 1\n",
    "for item in list(dict_est_1):\n",
    "    dict_est_1[item] = dict_est_1[item] / 100\n",
    "    \n",
    "dict_paircluster2count_1 = {}\n",
    "count = 0\n",
    "for item in list(dict_cellidpair2connect):\n",
    "    tmp_id_1 = item[0]\n",
    "    tmp_id_2 = item[1]\n",
    "    if tmp_id_1 in dict_id2barcode.keys() and tmp_id_2 in dict_id2barcode.keys():\n",
    "        tmp_barcode_1 = dict_id2barcode[tmp_id_1]\n",
    "        tmp_barcode_2 = dict_id2barcode[tmp_id_2]\n",
    "        if tmp_barcode_1 in dict_barcode2cluster.keys() and tmp_barcode_2 in dict_barcode2cluster.keys():\n",
    "            tmp_cluster_1 = dict_barcode2cluster[tmp_barcode_1]\n",
    "            tmp_cluster_2 = dict_barcode2cluster[tmp_barcode_2]\n",
    "            tmp_pair = \"\"\n",
    "            if tmp_cluster_1 <= tmp_cluster_2:\n",
    "                tmp_pair = (tmp_cluster_1, tmp_cluster_2)\n",
    "            else:\n",
    "                tmp_pair = (tmp_cluster_2, tmp_cluster_1)\n",
    "            if tmp_pair not in dict_paircluster2count_1:\n",
    "                dict_paircluster2count_1[tmp_pair] = 1\n",
    "            else:\n",
    "                dict_paircluster2count_1[tmp_pair] = dict_paircluster2count_1[tmp_pair] + 1\n",
    "        else:\n",
    "            count = count + 1\n",
    "print(count)\n",
    "\n"
   ]
  },
  {
   "cell_type": "markdown",
   "id": "b7f6f7a2",
   "metadata": {},
   "source": [
    "# Caculate Ratio "
   ]
  },
  {
   "cell_type": "code",
   "execution_count": 111,
   "id": "3d787b2a",
   "metadata": {},
   "outputs": [],
   "source": [
    "dict_ratio_1 = {}\n",
    "for i in range(29):\n",
    "    for j in range(29):\n",
    "        if i<=j:\n",
    "            count_obs = 0.0\n",
    "            if (i, j) in dict_paircluster2count_1.keys():\n",
    "                count_obs = count_obs + dict_paircluster2count_1[(i, j)]\n",
    "\n",
    "            count_est = 0.0\n",
    "            if (i, j) in dict_est_1.keys():\n",
    "                count_est = count_est + dict_est_1[(i, j)]\n",
    "\n",
    "            #print(str(i)+\" \"+str(j)+\" \"+str(count_obs)+\" \"+str(count_est))\n",
    "            if count_est >= 2 and count_obs >= 2:\n",
    "                dict_ratio_1[(i, j)] = count_obs / count_est"
   ]
  },
  {
   "cell_type": "code",
   "execution_count": 112,
   "id": "39478935",
   "metadata": {},
   "outputs": [],
   "source": [
    "matrix_outpt = open(\"/media/gulab/GUDR2/PB10_new/matrix_30d1.lst\", \"w\")\n",
    "matrix_np = np.zeros((29, 29))\n",
    "for i in range(29):\n",
    "    for j in range(29):\n",
    "        if (j, i) in dict_ratio.keys():\n",
    "            matrix_np[i][j] = dict_ratio[(j, i)]\n",
    "            matrix_outpt.write(str(matrix_np[i][j])+\",\")\n",
    "        else:\n",
    "            matrix_outpt.write(\"0,\")\n",
    "    matrix_outpt.write('\\n')\n",
    "matrix_outpt.close()"
   ]
  },
  {
   "cell_type": "code",
   "execution_count": 113,
   "id": "c3f31960",
   "metadata": {},
   "outputs": [],
   "source": [
    "matrix_File = open(\"/media/gulab/GUDR2/PB10_new/matrix_30d1.lst\")\n",
    "matrix_Lines = matrix_File.readlines()\n",
    "matrix_np = []\n",
    "for i in range(len(matrix_Lines)):\n",
    "    tmp_lst = matrix_Lines[i].strip('\\n').split(',')[:-1]\n",
    "    for j in range(len(tmp_lst)):\n",
    "        tmp_lst[j] = float(tmp_lst[j])\n",
    "    matrix_np.append(tmp_lst)"
   ]
  },
  {
   "cell_type": "code",
   "execution_count": 114,
   "id": "63d79249",
   "metadata": {},
   "outputs": [],
   "source": [
    "for i in range(len(matrix_np)):\n",
    "    for j in range(len(matrix_np)):\n",
    "        if matrix_np[i][j] == 0:\n",
    "            matrix_np[i][j] = matrix_np[j][i]"
   ]
  },
  {
   "cell_type": "markdown",
   "id": "f4c9b8e1",
   "metadata": {},
   "source": [
    "## generate heatmap"
   ]
  },
  {
   "cell_type": "code",
   "execution_count": 122,
   "id": "d674f6cf",
   "metadata": {},
   "outputs": [
    {
     "data": {
      "image/png": "[encoded data removed]",
      "text/plain": [
       "<Figure size 720x720 with 2 Axes>"
      ]
     },
     "metadata": {
      "needs_background": "light"
     },
     "output_type": "display_data"
    }
   ],
   "source": [
    "import pandas as pd\n",
    "import seaborn as sns\n",
    "import matplotlib\n",
    "import matplotlib.pyplot as plt\n",
    "matrix_np = pd.DataFrame(matrix_np)\n",
    "df_lt = matrix_np.where(np.tril(np.ones(matrix_np.shape)).astype(np.bool))\n",
    "fig, ax = plt.subplots(figsize=(10, 10))\n",
    "ax = sns.heatmap(df_lt, vmin= 0, vmax= 5, cmap=\"YlGnBu\", square = True, xticklabels=False, yticklabels=False)\n",
    "plt.savefig('/media/gulab/GUDR2/PB10_new/Only_PBN_30d1.png',\n",
    "           dpi=300)"
   ]
  }
 ],
 "metadata": {
  "kernelspec": {
   "display_name": "Python 3",
   "language": "python",
   "name": "python3"
  },
  "language_info": {
   "codemirror_mode": {
    "name": "ipython",
    "version": 3
   },
   "file_extension": ".py",
   "mimetype": "text/x-python",
   "name": "python",
   "nbconvert_exporter": "python",
   "pygments_lexer": "ipython3",
   "version": "3.8.10"
  }
 },
 "nbformat": 4,
 "nbformat_minor": 5
}
